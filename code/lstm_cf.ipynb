{
 "cells": [
  {
   "cell_type": "markdown",
   "metadata": {
    "colab_type": "text",
    "id": "pB17Q8gBly4P"
   },
   "source": [
    "# Import \n",
    "\n"
   ]
  },
  {
   "cell_type": "code",
   "execution_count": 66,
   "metadata": {
    "colab": {
     "base_uri": "https://localhost:8080/"
    },
    "colab_type": "code",
    "executionInfo": {
     "elapsed": 3425,
     "status": "ok",
     "timestamp": 1576051058791,
     "user": {
      "displayName": "Balaram Sharma",
      "photoUrl": "https://lh3.googleusercontent.com/a-/AAuE7mDI7lSxZr2TgXFY9dcZuPhOlVEhmYOa-1hcwPOM=s64",
      "userId": "16779544257869221802"
     },
     "user_tz": -345
    },
    "id": "T7NHfPvaJEA4",
    "outputId": "4ba0654d-ee70-4d80-c0c3-463324577657"
   },
   "outputs": [],
   "source": [
    "import matplotlib.pyplot as plt\n",
    "import seaborn as sns\n",
    "import pandas as pd\n",
    "import numpy as np\n",
    "from keras import optimizers, Sequential\n",
    "from keras.layers import Dense, LSTM, RepeatVector, TimeDistributed,Dropout, Input\n",
    "from keras.callbacks import ModelCheckpoint, TensorBoard\n",
    "from sklearn.metrics import confusion_matrix\n",
    "from sklearn.metrics import auc, roc_curve\n",
    "from sklearn.model_selection import train_test_split\n",
    "from sklearn.preprocessing import MinMaxScaler\n",
    "from sklearn.preprocessing import StandardScaler\n",
    "from keras.models import load_model\n",
    "from sklearn.preprocessing import StandardScaler\n",
    "from keras.callbacks import EarlyStopping\n",
    "from keras import regularizers\n",
    "from keras.models import Model\n",
    "from sklearn.metrics import confusion_matrix, precision_recall_curve\n",
    "from sklearn.metrics import recall_score, classification_report, auc, roc_curve\n",
    "from sklearn.metrics import precision_recall_fscore_support, f1_score\n",
    "\n",
    "LABELS = [\"Normal\", \"Anomaly\"]"
   ]
  },
  {
   "cell_type": "markdown",
   "metadata": {
    "colab_type": "text",
    "id": "6SYinY4pVAHY"
   },
   "source": [
    "# Import Functions"
   ]
  },
  {
   "cell_type": "code",
   "execution_count": 68,
   "metadata": {
    "colab": {},
    "colab_type": "code",
    "id": "KGPR0WWYU_Xl"
   },
   "outputs": [],
   "source": [
    "\n",
    "def temporalize(in_X, lb):\n",
    "    X = []\n",
    "    for i in range(lb, len(in_X)+1):\n",
    "        X.append(in_X[i - lb:i, :])\n",
    "    X = np.array(X)\n",
    "    return X\n",
    "\n",
    "\n",
    "def temporalize_test(in_X, in_y, in_cat, lb):\n",
    "    X = []\n",
    "    y = []\n",
    "    y_cat =[]\n",
    "    for i in range(lb, len(in_X) + 1):\n",
    "        X.append(in_X[i - lb:i, :])\n",
    "        y.append(in_y[i-1])\n",
    "        y_cat.append(in_cat[i-1])\n",
    "    X = np.array(X)\n",
    "    y = np.array(y)\n",
    "    y_cat = np.array(y_cat)\n",
    "    return X, y, y_cat\n",
    "\n",
    "def make_lookback(df_t, lb):\n",
    "    X = []\n",
    "    X = np.array(X)\n",
    "    users = list(df_t.iloc[:, 0].unique())\n",
    "    flag = 1\n",
    "    for usr in users:\n",
    "        udf = df_t[df_t.iloc[:, 0] == usr]\n",
    "        input_X = udf.loc[:, ].values\n",
    "        t1 = temporalize(input_X, lb)\n",
    "        if flag == 1:\n",
    "            X = t1\n",
    "            flag = 0\n",
    "        else:\n",
    "            if t1.size != 0:\n",
    "                X = np.concatenate([X, t1])\n",
    "    return X\n",
    "\n",
    "\n",
    "def make_lookback_test(df_t, lb):\n",
    "    X = []\n",
    "    X = np.array(X)\n",
    "    Y = []\n",
    "    Y = np.array(Y)\n",
    "    users = list(df_t.iloc[:, 0].unique())\n",
    "    flag = 1\n",
    "    for usr in users:\n",
    "        udf = df_t[df_t.iloc[:, 0] == usr]\n",
    "        y = udf.iloc[:, -1].values\n",
    "        input_X = udf.iloc[:, :-1].values\n",
    "        t1, t2 = temporalize_test(input_X, y, lb)\n",
    "        if flag == 1:\n",
    "            X = t1\n",
    "            Y = t2\n",
    "            flag = 0\n",
    "        else:\n",
    "            if t1.size != 0:\n",
    "                X = np.concatenate([X, t1])\n",
    "                Y = np.concatenate([Y, t2])\n",
    "    return X, Y\n",
    "def flatten_data(X):\n",
    "    lb = X.shape[1]\n",
    "    flattened_X = np.empty((X.shape[0], X.shape[2]))\n",
    "    for i in range(X.shape[0]):\n",
    "        flattened_X[i] = X[i, lb-1, :]\n",
    "    return flattened_X\n",
    "def prepare_test_data(traindata, testdata):\n",
    "    lb = traindata.shape[1]\n",
    "    y = traindata[:, 0]\n",
    "    y = list(y.T)\n",
    "    z = list(y[0])\n",
    "    l = len(z)\n",
    "    test_X = np.zeros((len(testdata), lb, traindata.shape[2]))\n",
    "    flag = 0\n",
    "    for item in testdata:\n",
    "        idx = l - 1 - z[::-1].index(item[0])\n",
    "        test_X[flag, 0:lb-1, ] = traindata[idx, 1:, ]\n",
    "        test_X[flag, lb-1:, ] = testdata[flag]\n",
    "        flag += 1\n",
    "        print(flag)\n",
    "    return test_X\n",
    "def read_data(path):\n",
    "    df1 = pd.read_csv(path)\n",
    "    df1 = df1.drop(['start_ts','session_duration'], axis=1)\n",
    "    df1 = df1.fillna(0)\n",
    "    # df1.insert(loc=1, column='u', value=df1['user'].values)\n",
    "    df1['role'] = df1['role'].astype('category')\n",
    "    df1['role'] = df1['role'].cat.codes\n",
    "    df1['user'] = df1['user'].astype('category')\n",
    "    df1['user'] = df1['user'].cat.codes\n",
    "\n",
    "    # df1['u'] = df1['u'].astype('category')\n",
    "    # df1['u'] = df1['u'].cat.codes\n",
    "    # ce_ord = ce.BinaryEncoder(cols=['u'])\n",
    "    # df1 = ce_ord.fit_transform(df1)\n",
    "\n",
    "    return df1\n",
    "\n",
    "def arrange_data(array_np):\n",
    "    X = array_np\n",
    "    new_array = np.zeros((X.shape[0], X.shape[1], X.shape[2]))\n",
    "    y = X[:, 0]\n",
    "    y = list(y.T)\n",
    "    z = list(y[0])\n",
    "    all_items = np.array(z)\n",
    "    z = list(dict.fromkeys(z))\n",
    "    flag = 0\n",
    "    length = len(X)\n",
    "    while length != 0:\n",
    "        ind = []\n",
    "        for user in z:\n",
    "            if user in all_items:\n",
    "                i = all_items.tolist().index(user)\n",
    "                new_array[flag] = X[i]\n",
    "                ind.append(i)\n",
    "                print(flag)\n",
    "                flag += 1\n",
    "        X = np.delete(X, ind, axis=0)\n",
    "        all_items = np.delete(all_items, ind)\n",
    "        length = len(X)\n",
    "    return new_array"
   ]
  },
  {
   "cell_type": "code",
   "execution_count": 69,
   "metadata": {},
   "outputs": [],
   "source": [
    "#make this global\n",
    "sc = MinMaxScaler(feature_range=(0, 1))"
   ]
  },
  {
   "cell_type": "markdown",
   "metadata": {
    "colab_type": "text",
    "id": "TzLA5BVTQjAt"
   },
   "source": [
    "# Get train, valid and test data"
   ]
  },
  {
   "cell_type": "code",
   "execution_count": 70,
   "metadata": {
    "colab": {},
    "colab_type": "code",
    "id": "3VBUqXGdY2EH"
   },
   "outputs": [],
   "source": [
    "def get_train_valid_test_data(train, valid, test, lb):\n",
    "    X_train = []\n",
    "    X_train = np.array(X_train)\n",
    "    X_valid = []\n",
    "    X_valid = np.array(X_train)\n",
    "    X_test = []\n",
    "    X_test = np.array(X_train)\n",
    "    y_test = []\n",
    "    y_test = np.array(y_test)\n",
    "    \n",
    "    users = list(train.user.unique())\n",
    "    flag = 1\n",
    "    for usr in users:\n",
    "        u_train = train.loc[train['user'] == usr]\n",
    "        u_valid = valid.loc[valid['user'] == usr]\n",
    "        u_test = test.loc[test['user'] == usr]\n",
    "        u_y_test = u_test['class'].values\n",
    "        u_test = u_test.drop(['class'], axis=1)\n",
    "        \n",
    "        sc = MinMaxScaler(feature_range=(0, 1))\n",
    "        u_train = sc.fit_transform(u_train)\n",
    "        u_valid = sc.transform(u_valid)\n",
    "        u_test = sc.transform(u_test)\n",
    "        \n",
    "        t1 = temporalize(u_train, lb)\n",
    "        t2 = temporalize(u_valid, lb)\n",
    "        t3, t4 = temporalize_test(u_test, u_y_test, lb)\n",
    "        \n",
    "        if flag == 1:\n",
    "            X_train = t1\n",
    "            X_valid = t2\n",
    "            X_test = t3\n",
    "            y_test = t4\n",
    "            flag = 0\n",
    "        else:\n",
    "            if t1.size != 0:\n",
    "                X_train = np.concatenate([X_train, t1])\n",
    "            if t2.size != 0:\n",
    "                X_valid = np.concatenate([X_valid, t2])\n",
    "            if t3.size != 0:\n",
    "                X_test = np.concatenate([X_test, t3])\n",
    "            if t4.size != 0:\n",
    "                y_test = np.concatenate([y_test, t4])\n",
    "    return X_train, X_valid, X_test, y_test\n"
   ]
  },
  {
   "cell_type": "markdown",
   "metadata": {
    "colab_type": "text",
    "id": "uj-6fMyLQ7Ne"
   },
   "source": [
    "# Get train, test data"
   ]
  },
  {
   "cell_type": "code",
   "execution_count": 71,
   "metadata": {
    "colab": {},
    "colab_type": "code",
    "id": "W4N6XwMhRA6k"
   },
   "outputs": [],
   "source": [
    "def get_train_test_data(train, test, lb):\n",
    "    X_train = []\n",
    "    X_train = np.array(X_train)\n",
    "    X_test = []\n",
    "    X_test = np.array(X_train)\n",
    "    y_test = []\n",
    "    y_test = np.array(y_test)\n",
    "\n",
    "    y_type = []\n",
    "    y_type = np.array(y_type)\n",
    "\n",
    "    users = list(train.user.unique())\n",
    "    flag = 1\n",
    "    for usr in users:\n",
    "        u_train = train.loc[train['user'] == usr]\n",
    "        u_test = test.loc[test['user'] == usr]\n",
    "        u_y_test = u_test['class'].values\n",
    "        u_y_cat = u_test['type'].values\n",
    "        u_test = u_test.drop(['class','type'], axis=1)\n",
    "        \n",
    "        sc = MinMaxScaler(feature_range=(0, 1))\n",
    "        u_train = sc.fit_transform(u_train)\n",
    "        u_test = sc.transform(u_test)\n",
    "        \n",
    "        t1 = temporalize(u_train, lb)\n",
    "        t3, t4, t5 = temporalize_test(u_test, u_y_test, u_y_cat, lb)\n",
    "        \n",
    "        if flag == 1:\n",
    "            X_train = t1\n",
    "            X_test = t3\n",
    "            y_test = t4\n",
    "            y_type = t5\n",
    "            flag = 0\n",
    "        else:\n",
    "            if t1.size != 0:\n",
    "                X_train = np.concatenate([X_train, t1])\n",
    "            if t3.size != 0:\n",
    "                X_test = np.concatenate([X_test, t3])\n",
    "            if t4.size != 0:\n",
    "                y_test = np.concatenate([y_test, t4])\n",
    "                y_type = np.concatenate([y_type, t5])\n",
    "    return X_train, X_test, y_test, y_type"
   ]
  },
  {
   "cell_type": "markdown",
   "metadata": {
    "colab_type": "text",
    "id": "1L3-hxlEBJc7"
   },
   "source": [
    "# Import Drive"
   ]
  },
  {
   "cell_type": "markdown",
   "metadata": {
    "colab_type": "text",
    "id": "wa1A3xP9UcFI"
   },
   "source": [
    "# Prepare Data"
   ]
  },
  {
   "cell_type": "code",
   "execution_count": 82,
   "metadata": {
    "colab": {},
    "colab_type": "code",
    "id": "E9BWpwv-bkTJ"
   },
   "outputs": [],
   "source": [
    "LABELS = [\"Normal\", \"Anomaly\"]\n",
    "train_percent = 242043\n",
    "test_percent = 0.2\n",
    "validation_percent = 276388\n",
    "lookback = 3\n",
    "df = read_data(\"/home/sathish/UEBA/data/data.csv\")\n",
    "\n",
    "# # train, test = train_test_split(df, test_size=test_percent, shuffle=False)\n",
    "train_data = df[0:validation_percent]\n",
    "#valid_data = df[train_percent:validation_percent]\n",
    "test_data = df[validation_percent:]\n",
    "\n",
    "train_data = train_data.drop(['class','type'], axis=1)\n",
    "# valid_data = valid_data.drop(['class'], axis=1)\n",
    "X_train, X_test, y_test, y_category = get_train_test_data(train_data, test_data, lookback)\n",
    "X_train = X_train[:, :, 1:]\n",
    "X_test = X_test[:, :, 1:]"
   ]
  },
  {
   "cell_type": "markdown",
   "metadata": {
    "colab_type": "text",
    "id": "_39UpfeyW83h"
   },
   "source": [
    "# Model"
   ]
  },
  {
   "cell_type": "code",
   "execution_count": null,
   "metadata": {
    "colab": {},
    "colab_type": "code",
    "id": "4OtZZdd_Z1bq"
   },
   "outputs": [],
   "source": [
    "import os\n",
    "n_features = X_train.shape[2]\n",
    "X_train = X_train.reshape(X_train.shape[0], lookback, n_features)\n",
    "#X_valid = X_valid.reshape(X_valid.shape[0], lookback, n_features)\n",
    "X_test = X_test.reshape(X_test.shape[0], lookback, n_features)\n",
    "\n",
    "epochs = 100\n",
    "batch = 256\n",
    "lr = 0.0001\n",
    "timesteps = lookback\n",
    "encoding_dim = 16\n",
    "hidden_dim = 8\n",
    "# Define model\n",
    "# Define model save path\n",
    "model_path = \"lstm_autoencoder.h5\"\n",
    "\n",
    "if os.path.exists(model_path):\n",
    "    print(\"Loading existing model...\")\n",
    "    from tensorflow.keras.losses import MeanSquaredError\n",
    "    lstm_model = load_model(model_path, custom_objects={'MeanSquaredError': MeanSquaredError()})\n",
    "    cp = ModelCheckpoint(filepath=\"ae_classifier.h5\",\n",
    "                        save_best_only=True,\n",
    "                        verbose=0)\n",
    "\n",
    "    tb = TensorBoard(log_dir='./logs',\n",
    "                    histogram_freq=0,\n",
    "                    write_graph=True,\n",
    "                    write_images=True)\n",
    "else:\n",
    "    inputs = Input(shape = (timesteps, n_features))\n",
    "    L1 = LSTM(encoding_dim, activation ='relu', return_sequences=True, \n",
    "            kernel_regularizer=regularizers.l2(0.00))(inputs)\n",
    "    L2 = LSTM(hidden_dim, activation='relu', return_sequences=False)(L1)\n",
    "    L3 = RepeatVector(timesteps)(L2)\n",
    "    L4 = LSTM(hidden_dim, activation='relu', return_sequences=True)(L3)\n",
    "    L5 = LSTM(encoding_dim, activation='relu', return_sequences=True)(L4)\n",
    "    output = TimeDistributed(Dense(n_features))(L5)\n",
    "    lstm_model = Model(inputs=inputs, outputs=output)\n",
    "    lstm_model.summary()\n",
    "\n",
    "    adam = optimizers.Adam(lr)\n",
    "    lstm_model.compile(loss='MeanSquaredError', optimizer=adam)\n",
    "\n",
    "\n",
    "    cp = ModelCheckpoint(filepath=\"ae_classifier.h5\",\n",
    "                        save_best_only=True,\n",
    "                        verbose=0)\n",
    "\n",
    "    tb = TensorBoard(log_dir='./logs',\n",
    "                    histogram_freq=0,\n",
    "                    write_graph=True,\n",
    "                    write_images=True)\n",
    "    es = EarlyStopping(monitor='val_loss', min_delta=0.0001, patience = 2)\n",
    "    lstm_model_history = lstm_model.fit(X_train, X_train,\n",
    "                                        epochs=epochs,\n",
    "                                        batch_size=batch,\n",
    "                                        shuffle=False,\n",
    "                                        verbose=1,\n",
    "                                        validation_split=0.12,\n",
    "                                        callbacks=[es, cp, tb]).history\n",
    "    # Save trained model\n",
    "    lstm_model.save(model_path)\n",
    "\n",
    "\n",
    "\n",
    "\n"
   ]
  },
  {
   "cell_type": "code",
   "execution_count": 86,
   "metadata": {},
   "outputs": [
    {
     "data": {
      "image/png": "[encoded data removed]",
      "text/plain": [
       "<Figure size 640x480 with 1 Axes>"
      ]
     },
     "metadata": {},
     "output_type": "display_data"
    },
    {
     "name": "stdout",
     "output_type": "stream",
     "text": [
      "[0.07213324308395386, 0.03756299242377281, 0.03489350527524948, 0.03356670215725899, 0.03207977116107941, 0.030974434688687325, 0.0300437118858099, 0.029142461717128754, 0.028299041092395782, 0.027544721961021423, 0.02694018930196762, 0.026380643248558044, 0.02582329325377941, 0.025286076590418816, 0.024780550971627235, 0.024291841313242912, 0.023831460624933243, 0.02341616339981556, 0.023048069328069687, 0.022727489471435547, 0.02244265004992485, 0.02217644639313221, 0.021913642063736916, 0.02164332941174507, 0.02136460319161415, 0.02108612097799778, 0.020818961784243584, 0.02056899107992649, 0.020338794216513634, 0.020128687843680382, 0.01993861049413681, 0.019767306745052338, 0.019612951204180717, 0.019472753629088402, 0.019344110041856766, 0.019224435091018677, 0.019111448898911476, 0.01900358311831951, 0.01890007220208645, 0.018799856305122375, 0.01870216242969036, 0.01860642246901989, 0.018512148410081863, 0.018418865278363228, 0.01832633651793003, 0.018234219402074814, 0.01814284734427929, 0.018051907420158386, 0.017961762845516205, 0.017872512340545654, 0.017784347757697105, 0.017697066068649292, 0.01761082373559475, 0.017525658011436462, 0.01744156889617443, 0.017358940094709396, 0.017278287559747696, 0.017199575901031494, 0.017123118042945862, 0.017048923298716545]\n"
     ]
    }
   ],
   "source": [
    "plt.plot(lstm_model_history['loss'], linewidth=2, label='Train')\n",
    "plt.plot(lstm_model_history['val_loss'], linewidth=2, label='Validation')\n",
    "plt.legend(loc='upper right')\n",
    "plt.title('Model loss')\n",
    "plt.ylabel('Loss')\n",
    "plt.xlabel('Epoch')\n",
    "plt.show()\n",
    "print(lstm_model_history['loss'])"
   ]
  },
  {
   "cell_type": "markdown",
   "metadata": {
    "colab_type": "text",
    "id": "kqkcjc-LeYqa"
   },
   "source": [
    "# Results"
   ]
  },
  {
   "cell_type": "code",
   "execution_count": 87,
   "metadata": {
    "colab": {},
    "colab_type": "code",
    "id": "42HPn368K4VA"
   },
   "outputs": [
    {
     "name": "stdout",
     "output_type": "stream",
     "text": [
      "\u001b[1m1983/1983\u001b[0m \u001b[32m━━━━━━━━━━━━━━━━━━━━\u001b[0m\u001b[37m\u001b[0m \u001b[1m5s\u001b[0m 2ms/step\n"
     ]
    }
   ],
   "source": [
    "tb.set_model(lstm_model)\n",
    "test_x_predictions = lstm_model.predict(X_test)"
   ]
  },
  {
   "cell_type": "code",
   "execution_count": 88,
   "metadata": {
    "colab": {},
    "colab_type": "code",
    "id": "ZTai1SrYecVC"
   },
   "outputs": [
    {
     "data": {
      "image/png": "[encoded data removed]",
      "text/plain": [
       "<Figure size 500x500 with 2 Axes>"
      ]
     },
     "metadata": {},
     "output_type": "display_data"
    },
    {
     "data": {
      "text/plain": [
       "Text(0.5, 0, 'False Positive Rate')"
      ]
     },
     "execution_count": 88,
     "metadata": {},
     "output_type": "execute_result"
    },
    {
     "data": {
      "image/png": "[encoded data removed]",
      "text/plain": [
       "<Figure size 640x480 with 1 Axes>"
      ]
     },
     "metadata": {},
     "output_type": "display_data"
    }
   ],
   "source": [
    "mse = np.mean(np.power(flatten_data(X_test) - flatten_data(test_x_predictions), 2), axis=1)\n",
    "\n",
    "error_df = pd.DataFrame({'Reconstruction_error': mse,\n",
    "                         'True_class': y_test})\n",
    "\n",
    "# threshold = error_df.Reconstruction_error.mean()\n",
    "threshold = 0.04\n",
    "# output reconstruction error to file\n",
    "# np.savetxt(out_prediction_file, error_df, delimiter=\",\")\n",
    "# Confusion Matrix\n",
    "pred_y = [1 if e > threshold else 0 for e in error_df.Reconstruction_error.values]\n",
    "conf_matrix = confusion_matrix(error_df.True_class, pred_y)\n",
    "\n",
    "plt.figure(figsize=(5, 5))\n",
    "sns.heatmap(conf_matrix, xticklabels=LABELS, yticklabels=LABELS, annot=True, fmt=\"d\")\n",
    "plt.title(\"Confusion matrix\")\n",
    "plt.ylabel('True class')\n",
    "plt.xlabel('Predicted class')\n",
    "plt.show()\n",
    "\n",
    "# #  Plot predicted values\n",
    "# groups = error_df.groupby('True_class')\n",
    "# fig, ax = plt.subplots()\n",
    "\n",
    "# for name, group in groups:\n",
    "#     ax.plot(group.index, group.Reconstruction_error, marker='o', ms=3.5, linestyle='')\n",
    "# ax.hlines(threshold, ax.get_xlim()[0], ax.get_xlim()[1], colors=\"r\", zorder=100, label='Threshold')\n",
    "# ax.legend()\n",
    "# plt.title(\"Reconstruction error for different classes\")\n",
    "# plt.ylabel(\"Reconstruction error\")\n",
    "# plt.xlabel(\"Data point index\")\n",
    "# plt.show()\n",
    "\n",
    "# AUC Plot\n",
    "false_pos_rate, true_pos_rate, thresholds = roc_curve(error_df.True_class, error_df.Reconstruction_error)\n",
    "roc_auc = auc(false_pos_rate, true_pos_rate, )\n",
    "\n",
    "plt.plot(false_pos_rate, true_pos_rate, linewidth=3, label='AUC = %0.3f' % roc_auc)\n",
    "plt.plot([0, 1], [0, 1], linewidth=3)\n",
    "\n",
    "plt.xlim([-0.01, 1])\n",
    "plt.ylim([0, 1.01])\n",
    "plt.legend(loc='lower right')\n",
    "plt.title('Receiver operating characteristic curve (ROC)')\n",
    "plt.ylabel('True Positive Rate')\n",
    "plt.xlabel('False Positive Rate')"
   ]
  },
  {
   "cell_type": "code",
   "execution_count": 89,
   "metadata": {},
   "outputs": [],
   "source": [
    "import tensorflow as tf\n",
    "import numpy as np"
   ]
  },
  {
   "cell_type": "code",
   "execution_count": 90,
   "metadata": {},
   "outputs": [],
   "source": [
    "\n",
    "\n",
    "def generate_counterfactual(model, sequence, scaler, feature_names, learning_rate=0.01, iterations=500, immutable_features=[]):\n",
    "    \"\"\"\n",
    "    Generates a counterfactual sequence by modifying input features to reduce reconstruction error.\n",
    "    \n",
    "    Args:\n",
    "        model: Trained LSTM autoencoder.\n",
    "        sequence: Anomalous sequence (numpy array, shape=(1, timesteps, features)).\n",
    "        scaler: Scaler used for normalization (to inverse transform after modification).\n",
    "        feature_names: List of feature names corresponding to the sequence.\n",
    "        learning_rate: Step size for gradient updates.\n",
    "        iterations: Number of optimization steps.\n",
    "        immutable_features: List of feature names that should not change.\n",
    "\n",
    "    Returns:\n",
    "        Counterfactual sequence as a Pandas DataFrame.\n",
    "    \"\"\"\n",
    "\n",
    "    # Convert sequence to a TensorFlow Variable (enables gradient tracking)\n",
    "    sequence = tf.Variable(sequence, dtype=tf.float32)\n",
    "\n",
    "    # Get indices of immutable features\n",
    "    feature_indices = np.array([feature_names.index(feature) for feature in immutable_features if feature in feature_names])\n",
    "\n",
    "    # Define optimizer\n",
    "    optimizer = tf.keras.optimizers.Adam(learning_rate=learning_rate)\n",
    "\n",
    "    for i in range(iterations):\n",
    "        with tf.GradientTape() as tape:\n",
    "            tape.watch(sequence)\n",
    "            reconstruction = model(sequence)  # Get reconstructed output\n",
    "            loss = tf.reduce_mean(tf.abs(reconstruction - sequence))  # Compute reconstruction error\n",
    "\n",
    "        # Compute gradients\n",
    "        grads = tape.gradient(loss, sequence)\n",
    "\n",
    "        # Apply mask to prevent updates on immutable features\n",
    "        grads = grads.numpy()\n",
    "        if len(feature_indices) > 0:\n",
    "            grads[:, :, feature_indices] = 0  # Prevent modification of immutable features\n",
    "        grads = tf.convert_to_tensor(grads)\n",
    "\n",
    "        # Apply gradient update\n",
    "        optimizer.apply_gradients([(grads, sequence)])\n",
    "\n",
    "    # Convert back to NumPy array and inverse transform\n",
    "    counterfactual = sequence.numpy()\n",
    "\n",
    "    # Select only the last time step for inverse transform\n",
    "    counterfactual_last_step = counterfactual[:, -1, :]\n",
    "\n",
    "    # Apply inverse transformation to bring back original scale\n",
    "    counterfactual_last_step = scaler.inverse_transform(counterfactual_last_step)\n",
    "\n",
    "    return pd.DataFrame(counterfactual_last_step, columns=feature_names)\n"
   ]
  },
  {
   "cell_type": "code",
   "execution_count": 91,
   "metadata": {},
   "outputs": [
    {
     "ename": "AttributeError",
     "evalue": "'numpy.ndarray' object has no attribute 'columns'",
     "output_type": "error",
     "traceback": [
      "\u001b[0;31m---------------------------------------------------------------------------\u001b[0m",
      "\u001b[0;31mAttributeError\u001b[0m                            Traceback (most recent call last)",
      "Cell \u001b[0;32mIn[91], line 4\u001b[0m\n\u001b[1;32m      2\u001b[0m pred_y1 \u001b[38;5;241m=\u001b[39m np\u001b[38;5;241m.\u001b[39marray(pred_y)\n\u001b[1;32m      3\u001b[0m np\u001b[38;5;241m.\u001b[39mwhere(pred_y1\u001b[38;5;241m==\u001b[39m \u001b[38;5;241m1\u001b[39m)\n\u001b[0;32m----> 4\u001b[0m \u001b[38;5;28mlist\u001b[39m(\u001b[43mX_train\u001b[49m\u001b[38;5;241;43m.\u001b[39;49m\u001b[43mcolumns\u001b[49m)\n",
      "\u001b[0;31mAttributeError\u001b[0m: 'numpy.ndarray' object has no attribute 'columns'"
     ]
    }
   ],
   "source": [
    "type(pred_y)\n",
    "pred_y1 = np.array(pred_y)\n",
    "np.where(pred_y1== 1)\n",
    "list(X_train.columns)"
   ]
  },
  {
   "cell_type": "code",
   "execution_count": 145,
   "metadata": {},
   "outputs": [
    {
     "name": "stderr",
     "output_type": "stream",
     "text": [
      "WARNING:absl:Compiled the loaded model, but the compiled metrics have yet to be built. `model.compile_metrics` will be empty until you train or evaluate the model.\n"
     ]
    },
    {
     "name": "stdout",
     "output_type": "stream",
     "text": [
      "Loading existing model...\n"
     ]
    },
    {
     "ename": "ValueError",
     "evalue": "Shape of passed values is (1, 44), indices imply (1, 45)",
     "output_type": "error",
     "traceback": [
      "\u001b[0;31m---------------------------------------------------------------------------\u001b[0m",
      "\u001b[0;31mValueError\u001b[0m                                Traceback (most recent call last)",
      "Cell \u001b[0;32mIn[145], line 46\u001b[0m\n\u001b[1;32m     43\u001b[0m immutable_features \u001b[38;5;241m=\u001b[39m [\u001b[38;5;124m\"\u001b[39m\u001b[38;5;124muser\u001b[39m\u001b[38;5;124m\"\u001b[39m]\n\u001b[1;32m     45\u001b[0m \u001b[38;5;66;03m# Call the counterfactual generator\u001b[39;00m\n\u001b[0;32m---> 46\u001b[0m counterfactual_example \u001b[38;5;241m=\u001b[39m \u001b[43mgenerate_counterfactual\u001b[49m\u001b[43m(\u001b[49m\n\u001b[1;32m     47\u001b[0m \u001b[43m    \u001b[49m\u001b[43mlstm_model\u001b[49m\u001b[43m,\u001b[49m\u001b[43m \u001b[49m\u001b[43manomalous_sequence\u001b[49m\u001b[43m,\u001b[49m\u001b[43m \u001b[49m\u001b[43mscaler\u001b[49m\u001b[43m,\u001b[49m\u001b[43m \u001b[49m\u001b[43mfeature_names\u001b[49m\u001b[43m,\u001b[49m\u001b[43m \u001b[49m\u001b[43mimmutable_features\u001b[49m\u001b[38;5;241;43m=\u001b[39;49m\u001b[43mimmutable_features\u001b[49m\n\u001b[1;32m     48\u001b[0m \u001b[43m)\u001b[49m\n\u001b[1;32m     50\u001b[0m \u001b[38;5;66;03m# Print the counterfactual sequence\u001b[39;00m\n\u001b[1;32m     51\u001b[0m \u001b[38;5;28mprint\u001b[39m(\u001b[38;5;124m\"\u001b[39m\u001b[38;5;130;01m\\n\u001b[39;00m\u001b[38;5;124mCounterfactual Example (with \u001b[39m\u001b[38;5;124m'\u001b[39m\u001b[38;5;124muser\u001b[39m\u001b[38;5;124m'\u001b[39m\u001b[38;5;124m constant):\u001b[39m\u001b[38;5;124m\"\u001b[39m)\n",
      "Cell \u001b[0;32mIn[90], line 54\u001b[0m, in \u001b[0;36mgenerate_counterfactual\u001b[0;34m(model, sequence, scaler, feature_names, learning_rate, iterations, immutable_features)\u001b[0m\n\u001b[1;32m     51\u001b[0m \u001b[38;5;66;03m# Apply inverse transformation to bring back original scale\u001b[39;00m\n\u001b[1;32m     52\u001b[0m counterfactual_last_step \u001b[38;5;241m=\u001b[39m scaler\u001b[38;5;241m.\u001b[39minverse_transform(counterfactual_last_step)\n\u001b[0;32m---> 54\u001b[0m \u001b[38;5;28;01mreturn\u001b[39;00m \u001b[43mpd\u001b[49m\u001b[38;5;241;43m.\u001b[39;49m\u001b[43mDataFrame\u001b[49m\u001b[43m(\u001b[49m\u001b[43mcounterfactual_last_step\u001b[49m\u001b[43m,\u001b[49m\u001b[43m \u001b[49m\u001b[43mcolumns\u001b[49m\u001b[38;5;241;43m=\u001b[39;49m\u001b[43mfeature_names\u001b[49m\u001b[43m)\u001b[49m\n",
      "File \u001b[0;32m~/UEBA/.venv/lib/python3.10/site-packages/pandas/core/frame.py:827\u001b[0m, in \u001b[0;36mDataFrame.__init__\u001b[0;34m(self, data, index, columns, dtype, copy)\u001b[0m\n\u001b[1;32m    816\u001b[0m         mgr \u001b[38;5;241m=\u001b[39m dict_to_mgr(\n\u001b[1;32m    817\u001b[0m             \u001b[38;5;66;03m# error: Item \"ndarray\" of \"Union[ndarray, Series, Index]\" has no\u001b[39;00m\n\u001b[1;32m    818\u001b[0m             \u001b[38;5;66;03m# attribute \"name\"\u001b[39;00m\n\u001b[0;32m   (...)\u001b[0m\n\u001b[1;32m    824\u001b[0m             copy\u001b[38;5;241m=\u001b[39m_copy,\n\u001b[1;32m    825\u001b[0m         )\n\u001b[1;32m    826\u001b[0m     \u001b[38;5;28;01melse\u001b[39;00m:\n\u001b[0;32m--> 827\u001b[0m         mgr \u001b[38;5;241m=\u001b[39m \u001b[43mndarray_to_mgr\u001b[49m\u001b[43m(\u001b[49m\n\u001b[1;32m    828\u001b[0m \u001b[43m            \u001b[49m\u001b[43mdata\u001b[49m\u001b[43m,\u001b[49m\n\u001b[1;32m    829\u001b[0m \u001b[43m            \u001b[49m\u001b[43mindex\u001b[49m\u001b[43m,\u001b[49m\n\u001b[1;32m    830\u001b[0m \u001b[43m            \u001b[49m\u001b[43mcolumns\u001b[49m\u001b[43m,\u001b[49m\n\u001b[1;32m    831\u001b[0m \u001b[43m            \u001b[49m\u001b[43mdtype\u001b[49m\u001b[38;5;241;43m=\u001b[39;49m\u001b[43mdtype\u001b[49m\u001b[43m,\u001b[49m\n\u001b[1;32m    832\u001b[0m \u001b[43m            \u001b[49m\u001b[43mcopy\u001b[49m\u001b[38;5;241;43m=\u001b[39;49m\u001b[43mcopy\u001b[49m\u001b[43m,\u001b[49m\n\u001b[1;32m    833\u001b[0m \u001b[43m            \u001b[49m\u001b[43mtyp\u001b[49m\u001b[38;5;241;43m=\u001b[39;49m\u001b[43mmanager\u001b[49m\u001b[43m,\u001b[49m\n\u001b[1;32m    834\u001b[0m \u001b[43m        \u001b[49m\u001b[43m)\u001b[49m\n\u001b[1;32m    836\u001b[0m \u001b[38;5;66;03m# For data is list-like, or Iterable (will consume into list)\u001b[39;00m\n\u001b[1;32m    837\u001b[0m \u001b[38;5;28;01melif\u001b[39;00m is_list_like(data):\n",
      "File \u001b[0;32m~/UEBA/.venv/lib/python3.10/site-packages/pandas/core/internals/construction.py:336\u001b[0m, in \u001b[0;36mndarray_to_mgr\u001b[0;34m(values, index, columns, dtype, copy, typ)\u001b[0m\n\u001b[1;32m    331\u001b[0m \u001b[38;5;66;03m# _prep_ndarraylike ensures that values.ndim == 2 at this point\u001b[39;00m\n\u001b[1;32m    332\u001b[0m index, columns \u001b[38;5;241m=\u001b[39m _get_axes(\n\u001b[1;32m    333\u001b[0m     values\u001b[38;5;241m.\u001b[39mshape[\u001b[38;5;241m0\u001b[39m], values\u001b[38;5;241m.\u001b[39mshape[\u001b[38;5;241m1\u001b[39m], index\u001b[38;5;241m=\u001b[39mindex, columns\u001b[38;5;241m=\u001b[39mcolumns\n\u001b[1;32m    334\u001b[0m )\n\u001b[0;32m--> 336\u001b[0m \u001b[43m_check_values_indices_shape_match\u001b[49m\u001b[43m(\u001b[49m\u001b[43mvalues\u001b[49m\u001b[43m,\u001b[49m\u001b[43m \u001b[49m\u001b[43mindex\u001b[49m\u001b[43m,\u001b[49m\u001b[43m \u001b[49m\u001b[43mcolumns\u001b[49m\u001b[43m)\u001b[49m\n\u001b[1;32m    338\u001b[0m \u001b[38;5;28;01mif\u001b[39;00m typ \u001b[38;5;241m==\u001b[39m \u001b[38;5;124m\"\u001b[39m\u001b[38;5;124marray\u001b[39m\u001b[38;5;124m\"\u001b[39m:\n\u001b[1;32m    339\u001b[0m     \u001b[38;5;28;01mif\u001b[39;00m \u001b[38;5;28missubclass\u001b[39m(values\u001b[38;5;241m.\u001b[39mdtype\u001b[38;5;241m.\u001b[39mtype, \u001b[38;5;28mstr\u001b[39m):\n",
      "File \u001b[0;32m~/UEBA/.venv/lib/python3.10/site-packages/pandas/core/internals/construction.py:420\u001b[0m, in \u001b[0;36m_check_values_indices_shape_match\u001b[0;34m(values, index, columns)\u001b[0m\n\u001b[1;32m    418\u001b[0m passed \u001b[38;5;241m=\u001b[39m values\u001b[38;5;241m.\u001b[39mshape\n\u001b[1;32m    419\u001b[0m implied \u001b[38;5;241m=\u001b[39m (\u001b[38;5;28mlen\u001b[39m(index), \u001b[38;5;28mlen\u001b[39m(columns))\n\u001b[0;32m--> 420\u001b[0m \u001b[38;5;28;01mraise\u001b[39;00m \u001b[38;5;167;01mValueError\u001b[39;00m(\u001b[38;5;124mf\u001b[39m\u001b[38;5;124m\"\u001b[39m\u001b[38;5;124mShape of passed values is \u001b[39m\u001b[38;5;132;01m{\u001b[39;00mpassed\u001b[38;5;132;01m}\u001b[39;00m\u001b[38;5;124m, indices imply \u001b[39m\u001b[38;5;132;01m{\u001b[39;00mimplied\u001b[38;5;132;01m}\u001b[39;00m\u001b[38;5;124m\"\u001b[39m)\n",
      "\u001b[0;31mValueError\u001b[0m: Shape of passed values is (1, 44), indices imply (1, 45)"
     ]
    }
   ],
   "source": [
    "## **🚀 Example Call: Generating a Counterfactual for an Anomalous Sequence**\n",
    "\n",
    "# Load trained LSTM autoencoder\n",
    "from tensorflow.keras.models import load_model\n",
    "scaler = sc\n",
    "trainer = train_data.copy()\n",
    "trainer = trainer.iloc[:,1:]\n",
    "scaler.fit_transform(trainer)\n",
    "if os.path.exists(model_path):\n",
    "    print(\"Loading existing model...\")\n",
    "    from tensorflow.keras.losses import MeanSquaredError\n",
    "    lstm_model = load_model(model_path, custom_objects={'MeanSquaredError': MeanSquaredError()})\n",
    "\n",
    "# Define feature names separately (ensure you store them before converting to NumPy)\n",
    "feature_names = [ \"user\",\"logon_on_own_pc_normal\", \"logon_on_other_pc_normal\", \n",
    "                 \"logon_on_own_pc_off_hour\", \"logon_on_other_pc_off_hour\", \n",
    "                 \"logon_hour\", \"day_of_a_week\", \"device_connects_on_own_pc\",\n",
    "                 \"device_connects_on_other_pc\", \"device_connects_on_own_pc_off_hour\",\n",
    "                 \"device_connects_on_other_pc_off_hour\", \"documents_copy_own_pc\",\n",
    "                 \"documents_copy_other_pc\", \"exe_files_copy_own_pc\", \"exe_files_copy_other_pc\",\n",
    "                 \"documents_copy_own_pc_off_hour\", \"documents_copy_other_pc_off_hour\",\n",
    "                 \"exe_files_copy_own_pc_off_hour\", \"exe_files_copy_other_pc_off_hour\",\n",
    "                 \"neutral_sites\", \"job_search\", \"hacking_sites\", \"neutral_sites_off_hour\",\n",
    "                 \"job_search_off_hour\", \"hacking_sites_off_hour\", \"total_emails\", \"int_to_int_mails\",\n",
    "                 \"int_to_out_mails\", \"out_to_int_mails\", \"out_to_out_mails\",\n",
    "                 \"internal_recipients\", \"external_recipients\", \"distinct_bcc\",\n",
    "                 \"mails_with_attachments\", \"after_hour_mails\", \"role\",\n",
    "                 \"business_unit\", \"functional_unit\", \"department\", \"team\", \"O\", \"C\", \"E\", \"A\", \"N\"]\n",
    "\n",
    "# Select an anomalous instance\n",
    "anomaly_idx = np.where(pred_y1 == 1)[0][0]  # First detected anomaly\n",
    "\n",
    "# Ensure input has the correct shape for LSTM (sequence length = timesteps)\n",
    "timesteps = 3  # Lookback period used during training\n",
    "\n",
    "# Extract the sequence of length `timesteps` ending at `anomaly_idx`\n",
    "if anomaly_idx >= timesteps:\n",
    "    anomalous_sequence = flatten_data(X_test[anomaly_idx - timesteps:anomaly_idx]).reshape(1, timesteps, -1)\n",
    "else:\n",
    "    raise ValueError(f\"Anomaly index {anomaly_idx} is too small for timesteps={timesteps}.\")\n",
    "\n",
    "# List of immutable features (e.g., user ID should not change)\n",
    "immutable_features = [\"user\"]\n",
    "\n",
    "# Call the counterfactual generator\n",
    "counterfactual_example = generate_counterfactual(\n",
    "    lstm_model, anomalous_sequence, scaler, feature_names, immutable_features=immutable_features\n",
    ")\n",
    "\n",
    "# Print the counterfactual sequence\n",
    "print(\"\\nCounterfactual Example (with 'user' constant):\")\n",
    "print(counterfactual_example)\n"
   ]
  },
  {
   "cell_type": "code",
   "execution_count": 142,
   "metadata": {},
   "outputs": [
    {
     "data": {
      "text/plain": [
       "45"
      ]
     },
     "execution_count": 142,
     "metadata": {},
     "output_type": "execute_result"
    }
   ],
   "source": [
    "len(feature_names)\n"
   ]
  },
  {
   "cell_type": "code",
   "execution_count": 114,
   "metadata": {},
   "outputs": [
    {
     "name": "stdout",
     "output_type": "stream",
     "text": [
      "45\n",
      "44\n",
      "Index(['user', 'logon_on_own_pc_normal', 'logon_on_other_pc_normal',\n",
      "       'logon_on_own_pc_off_hour', 'logon_on_other_pc_off_hour', 'logon_hour',\n",
      "       'day_of_a_week', 'device_connects_on_own_pc',\n",
      "       'device_connects_on_other_pc', 'device_connects_on_own_pc_off_hour',\n",
      "       'device_connects_on_other_pc_off_hour', 'documents_copy_own_pc',\n",
      "       'documents_copy_other_pc', 'exe_files_copy_own_pc',\n",
      "       'exe_files_copy_other_pc', 'documents_copy_own_pc_off_hour',\n",
      "       'documents_copy_other_pc_off_hour', 'exe_files_copy_own_pc_off_hour',\n",
      "       'exe_files_copy_other_pc_off_hour', 'neutral_sites', 'job_search',\n",
      "       'hacking_sites', 'neutral_sites_off_hour', 'job_search_off_hour',\n",
      "       'hacking_sites_off_hour', 'total_emails', 'int_to_int_mails',\n",
      "       'int_to_out_mails', 'out_to_int_mails', 'out_to_out_mails',\n",
      "       'internal_recipients', 'external_recipients', 'distinct_bcc',\n",
      "       'mails_with_attachments', 'after_hour_mails', 'role', 'business_unit',\n",
      "       'functional_unit', 'department', 'team', 'O', 'C', 'E', 'A', 'N'],\n",
      "      dtype='object')\n"
     ]
    }
   ],
   "source": [
    "print(train_data.columns.size)\n",
    "print(X_train[0][0].size)\n",
    "print(train_data.columns)\n"
   ]
  },
  {
   "cell_type": "code",
   "execution_count": 63,
   "metadata": {},
   "outputs": [
    {
     "name": "stdout",
     "output_type": "stream",
     "text": [
      "4\n",
      "[[[1.         0.         0.5        0.         0.26086957 0.33333333\n",
      "   0.         0.         0.         0.         0.         0.\n",
      "   0.         0.         0.         0.         0.         0.\n",
      "   0.83333333 0.         0.         0.42857143 0.         0.\n",
      "   1.         1.         0.         0.         0.         0.5\n",
      "   0.         0.5        0.14285714 0.         0.         0.\n",
      "   0.         0.         0.         0.         0.         0.\n",
      "   0.         0.        ]\n",
      "  [1.         0.         0.5        0.         0.30434783 0.5\n",
      "   0.5        0.         0.         0.         0.125      0.\n",
      "   0.         0.         0.         0.         0.         0.\n",
      "   0.91111111 0.         0.         0.22857143 0.         0.\n",
      "   1.         0.33333333 0.         0.         0.66666667 0.4\n",
      "   0.45454545 1.         0.28571429 0.         0.         0.\n",
      "   0.         0.         0.         0.         0.         0.\n",
      "   0.         0.        ]\n",
      "  [1.         0.         0.5        0.         0.30434783 0.66666667\n",
      "   0.5        0.         0.         0.         0.5        0.\n",
      "   0.         0.         0.         0.         0.         0.\n",
      "   0.98888889 0.         0.         0.02857143 0.         0.\n",
      "   1.         0.77777778 0.         0.         0.22222222 0.6\n",
      "   0.54545455 1.         0.42857143 0.         0.         0.\n",
      "   0.         0.         0.         0.         0.         0.\n",
      "   0.         0.        ]]]\n"
     ]
    }
   ],
   "source": [
    "# Select an anomalous instance\n",
    "anomaly_idx = np.where(pred_y1 == 1)[0][0]  # First detected anomaly\n",
    "print(anomaly_idx)\n",
    "anomalous_sequence = flatten_data(X_test[anomaly_idx - timesteps:anomaly_idx])\n",
    "print(anomalous_sequence.reshape(1, timesteps, -1))"
   ]
  },
  {
   "cell_type": "code",
   "execution_count": 49,
   "metadata": {},
   "outputs": [
    {
     "name": "stdout",
     "output_type": "stream",
     "text": [
      "(None, 3, 44)\n",
      "Anomalous sequence shape: (1, 3, 132)\n",
      "X_train (274388, 3, 44)\n"
     ]
    }
   ],
   "source": [
    "print(lstm_model.input_shape)  # Should print: (None, 3, 44)\n",
    "print(\"Anomalous sequence shape:\", anomalous_sequence.shape)\n",
    "print(\"X_train\",X_train.shape)\n"
   ]
  },
  {
   "cell_type": "code",
   "execution_count": 25,
   "metadata": {},
   "outputs": [
    {
     "data": {
      "text/plain": [
       "array([[[ 4,  5,  6,  7],\n",
       "        [ 8,  9, 10, 11],\n",
       "        [12, 13, 14, 15]]])"
      ]
     },
     "execution_count": 25,
     "metadata": {},
     "output_type": "execute_result"
    }
   ],
   "source": [
    "anomalous_sequence"
   ]
  },
  {
   "cell_type": "code",
   "execution_count": 1,
   "metadata": {},
   "outputs": [
    {
     "name": "stdout",
     "output_type": "stream",
     "text": [
      "Extracted Sequence (Last 3 timesteps before anomaly):\n",
      "[[ 4  5  6  7]\n",
      " [ 8  9 10 11]\n",
      " [12 13 14 15]]\n"
     ]
    }
   ],
   "source": [
    "import numpy as np\n",
    "\n",
    "# Simulated X_test dataset (6 samples, 4 features each)\n",
    "X_test = np.array([\n",
    "    [0, 1, 2, 3],  # Index 0\n",
    "    [4, 5, 6, 7],  # Index 1\n",
    "    [8, 9, 10, 11],  # Index 2\n",
    "    [12, 13, 14, 15],  # Index 3\n",
    "    [16, 17, 18, 19],  # Index 4\n",
    "    [20, 21, 22, 23]   # Index 5\n",
    "])\n",
    "\n",
    "# Anomaly detected at index 4\n",
    "anomaly_idx = 4\n",
    "\n",
    "# Lookback timesteps\n",
    "timesteps = 3\n",
    "\n",
    "# Extract the sequence\n",
    "anomalous_sequence = X_test[anomaly_idx - timesteps:anomaly_idx]\n",
    "\n",
    "print(\"Extracted Sequence (Last 3 timesteps before anomaly):\")\n",
    "print(anomalous_sequence)\n",
    "#3x1 \n",
    "\n"
   ]
  },
  {
   "cell_type": "code",
   "execution_count": 23,
   "metadata": {},
   "outputs": [
    {
     "data": {
      "text/plain": [
       "(1, 3, 4)"
      ]
     },
     "execution_count": 23,
     "metadata": {},
     "output_type": "execute_result"
    }
   ],
   "source": [
    "anomalous_sequence.shape"
   ]
  },
  {
   "cell_type": "code",
   "execution_count": 20,
   "metadata": {},
   "outputs": [],
   "source": [
    "num_features = X_test.shape[1] "
   ]
  },
  {
   "cell_type": "code",
   "execution_count": 22,
   "metadata": {},
   "outputs": [],
   "source": [
    "anomalous_sequence = anomalous_sequence.reshape(1, timesteps, num_features)"
   ]
  },
  {
   "cell_type": "code",
   "execution_count": 24,
   "metadata": {},
   "outputs": [
    {
     "data": {
      "text/plain": [
       "array([[[ 4,  5,  6,  7],\n",
       "        [ 8,  9, 10, 11],\n",
       "        [12, 13, 14, 15]]])"
      ]
     },
     "execution_count": 24,
     "metadata": {},
     "output_type": "execute_result"
    }
   ],
   "source": [
    "anomalous_sequence"
   ]
  },
  {
   "cell_type": "code",
   "execution_count": null,
   "metadata": {},
   "outputs": [],
   "source": [
    "# Select an anomalous instance\n",
    "anomaly_idx = np.where(pred_y1== 1)[0][0]  # First detected anomaly\n",
    "\n",
    "# Ensure input has the correct shape for LSTM (sequence length = timesteps)\n",
    "timesteps = 3  # Lookback period used during training\n",
    "num_features = 44  # Ensure this matches the LSTM model's expected input feature count\n",
    "\n",
    "# Extract the sequence of length `timesteps` ending at `anomaly_idx`\n",
    "if anomaly_idx >= timesteps:\n",
    "    anomalous_sequence = X_test[anomaly_idx - timesteps:anomaly_idx]  # Select a sequence of 3 rows\n",
    "\n",
    "    print(\"Anomalous sequence shape before reshaping:\", anomalous_sequence.shape)\n",
    "    # Correctly reshape to (1, timesteps, num_features) instead of (1, timesteps, timesteps*num_features)\n",
    "    anomalous_sequence = anomalous_sequence.reshape(1, timesteps, num_features)\n",
    "\n",
    "else:\n",
    "    raise ValueError(f\"Anomaly index {anomaly_idx} is too small for timesteps={timesteps}.\")\n",
    "\n",
    "print(\"Corrected anomalous sequence shape:\", anomalous_sequence.shape)  # Should print (1, 3, 44)\n"
   ]
  },
  {
   "cell_type": "markdown",
   "metadata": {
    "colab_type": "text",
    "id": "FnUw50TySxhR"
   },
   "source": [
    "# Curve Plots\n",
    "\n"
   ]
  },
  {
   "cell_type": "code",
   "execution_count": 17,
   "metadata": {
    "colab": {},
    "colab_type": "code",
    "id": "_JXI6z9dSv2W"
   },
   "outputs": [],
   "source": [
    "threshold = 0.02\n",
    "increment = 0.001\n",
    "stopping = 0.06\n",
    "th = []\n",
    "prec = []\n",
    "rec = []\n",
    "accuracy = []\n",
    "f1 = []\n",
    "TPR = []\n",
    "FPR = []\n",
    "TNR = []\n",
    "while threshold < stopping:\n",
    "  pred_y = [1 if e > threshold else 0 for e in error_df.Reconstruction_error.values]\n",
    "  conf_matrix = confusion_matrix(error_df.True_class, pred_y)\n",
    "  TP = conf_matrix[1][1]\n",
    "  FP = conf_matrix[0][1]\n",
    "  TN = conf_matrix[0][0]\n",
    "  FN = conf_matrix[1][0]\n",
    "  th.append(threshold)\n",
    "  p = TP/(TP+FP)\n",
    "  r = TP/(TP+FN)\n",
    "  prec.append(p)\n",
    "  rec.append(r)\n",
    "  accuracy.append((TN+TP)/(TN+TP+FN+FP))\n",
    "  TPR.append(TP/(TP+FN))\n",
    "  FPR.append(FP/(TN+FP))\n",
    "  TNR.append(TN/(TN+FP))\n",
    "  f1.append(2*p*r/(p+r))\n",
    "  threshold = threshold + increment\n"
   ]
  },
  {
   "cell_type": "markdown",
   "metadata": {
    "colab_type": "text",
    "id": "-kTcLGL43_FR"
   },
   "source": [
    "# Precision vs Recall"
   ]
  },
  {
   "cell_type": "code",
   "execution_count": null,
   "metadata": {
    "colab": {},
    "colab_type": "code",
    "id": "oLnGBgaz2n09"
   },
   "outputs": [],
   "source": [
    "plt.plot(th, prec, linewidth=2, label='Precision', color ='r')\n",
    "plt.plot(th, rec, linewidth=2, label='Recall', color='b')\n",
    "plt.title('Precision/Recall Curve')\n",
    "plt.ylabel('Precision/Recall')\n",
    "plt.xlabel('Threshold')\n",
    "plt.legend(loc='upper right')\n",
    "plt.show()\n"
   ]
  },
  {
   "cell_type": "markdown",
   "metadata": {
    "colab_type": "text",
    "id": "Iztrmg7X5FD3"
   },
   "source": [
    "# **Accuracy Plot**"
   ]
  },
  {
   "cell_type": "code",
   "execution_count": null,
   "metadata": {
    "colab": {},
    "colab_type": "code",
    "id": "om61YlNu5JIE"
   },
   "outputs": [],
   "source": [
    "plt.plot(th, accuracy, linewidth=2, label='Accuracy', color ='r')\n",
    "plt.title('Accuracy Plot')\n",
    "plt.ylabel('Accuracy')\n",
    "plt.xlabel('Threshold')\n",
    "plt.legend(loc='lower right')\n",
    "plt.show()"
   ]
  },
  {
   "cell_type": "markdown",
   "metadata": {
    "colab_type": "text",
    "id": "cNtAVCnS5aEe"
   },
   "source": [
    "**F1 Score Plot**"
   ]
  },
  {
   "cell_type": "code",
   "execution_count": null,
   "metadata": {
    "colab": {
     "base_uri": "https://localhost:8080/",
     "height": 295
    },
    "colab_type": "code",
    "executionInfo": {
     "elapsed": 1212,
     "status": "ok",
     "timestamp": 1573612437139,
     "user": {
      "displayName": "Balaram Sharma",
      "photoUrl": "https://lh3.googleusercontent.com/a-/AAuE7mANHfEEyYpfrThLYCjpzHPYB2Rd_FIE6muKplBJ=s64",
      "userId": "01549019557410688854"
     },
     "user_tz": -345
    },
    "id": "QSW_cDZ95etZ",
    "outputId": "93d908fb-f772-4572-d138-4a600bcaab52"
   },
   "outputs": [],
   "source": [
    "plt.plot(th, f1, linewidth=2, label='F1 Score', color ='r')\n",
    "plt.title('F1 Score Plot')\n",
    "plt.ylabel('F1 Score')\n",
    "plt.xlabel('Threshold')\n",
    "plt.legend(loc='upper right')\n",
    "plt.show()"
   ]
  },
  {
   "cell_type": "markdown",
   "metadata": {
    "colab_type": "text",
    "id": "K3NbfHdp5xzx"
   },
   "source": [
    "**TPR vs TNR**"
   ]
  },
  {
   "cell_type": "code",
   "execution_count": null,
   "metadata": {
    "colab": {
     "base_uri": "https://localhost:8080/",
     "height": 295
    },
    "colab_type": "code",
    "executionInfo": {
     "elapsed": 2240,
     "status": "ok",
     "timestamp": 1575998542704,
     "user": {
      "displayName": "Balaram Sharma",
      "photoUrl": "https://lh3.googleusercontent.com/a-/AAuE7mDI7lSxZr2TgXFY9dcZuPhOlVEhmYOa-1hcwPOM=s64",
      "userId": "16779544257869221802"
     },
     "user_tz": -345
    },
    "id": "_3m0Ot2j52wF",
    "outputId": "7fe46017-d1c0-479b-ddad-5edd48c69416"
   },
   "outputs": [],
   "source": [
    "plt.plot(th, TPR, linewidth=2, label='TPR', color ='r')\n",
    "plt.plot(th, TNR, linewidth=2, label='TNR', color='b')\n",
    "plt.title('TPR, TNR Curve')\n",
    "plt.ylabel('TPR/TNR')\n",
    "plt.xlabel('Threshold')\n",
    "plt.legend(loc='upper right')\n",
    "plt.show()"
   ]
  }
 ],
 "metadata": {
  "accelerator": "GPU",
  "colab": {
   "collapsed_sections": [
    "pB17Q8gBly4P",
    "6SYinY4pVAHY",
    "TzLA5BVTQjAt",
    "uj-6fMyLQ7Ne",
    "FnUw50TySxhR",
    "-kTcLGL43_FR"
   ],
   "name": "autoencoder",
   "provenance": [
    {
     "file_id": "/v2/external/notebooks/welcome.ipynb",
     "timestamp": 1571574177269
    }
   ],
   "toc_visible": true
  },
  "kernelspec": {
   "display_name": ".venv",
   "language": "python",
   "name": "python3"
  },
  "language_info": {
   "codemirror_mode": {
    "name": "ipython",
    "version": 3
   },
   "file_extension": ".py",
   "mimetype": "text/x-python",
   "name": "python",
   "nbconvert_exporter": "python",
   "pygments_lexer": "ipython3",
   "version": "3.10.12"
  }
 },
 "nbformat": 4,
 "nbformat_minor": 0
}
