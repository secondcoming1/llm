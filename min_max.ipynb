{
 "cells": [
  {
   "cell_type": "code",
   "execution_count": 13,
   "metadata": {},
   "outputs": [],
   "source": [
    "import pandas as pd\n",
    "from sklearn.preprocessing import MinMaxScaler\n",
    "\n",
    "def normalize_dataframe(df, scaler=None, inverse=False, row=None):\n",
    "    \"\"\"\n",
    "    Normalize or denormalize a pandas DataFrame using MinMaxScaler.\n",
    "\n",
    "    Parameters:\n",
    "    - df (pd.DataFrame): DataFrame to normalize or denormalize.\n",
    "    - scaler (MinMaxScaler, optional): Pre-fitted MinMaxScaler object for denormalization.\n",
    "    - inverse (bool): If True, performs denormalization instead.\n",
    "    - row (pd.Series or np.array, optional): If provided, denormalizes a specific row instead of the entire DataFrame.\n",
    "\n",
    "    Returns:\n",
    "    - pd.DataFrame or pd.Series: Normalized or denormalized DataFrame or row.\n",
    "    - MinMaxScaler: Fitted scaler (only returned during normalization).\n",
    "    \"\"\"\n",
    "    if inverse:\n",
    "        if scaler is None:\n",
    "            raise ValueError(\"Scaler must be provided for denormalization.\")\n",
    "\n",
    "        if row is not None:\n",
    "            # Convert the row to a 2D array for transformation\n",
    "            row_reshaped = row.values.reshape(1, -1) if isinstance(row, pd.Series) else row.reshape(1, -1)\n",
    "            denormalized_row = scaler.inverse_transform(row_reshaped)\n",
    "            return pd.Series(denormalized_row.flatten(), index=df.columns)  # Convert back to Series\n",
    "\n",
    "        # Otherwise, denormalize the entire DataFrame\n",
    "        denormalized_data = scaler.inverse_transform(df)\n",
    "        return pd.DataFrame(denormalized_data, columns=df.columns)\n",
    "\n",
    "    else:\n",
    "        scaler = MinMaxScaler()\n",
    "        normalized_data = scaler.fit_transform(df)\n",
    "        return pd.DataFrame(normalized_data, columns=df.columns), scaler\n"
   ]
  },
  {
   "cell_type": "code",
   "execution_count": 14,
   "metadata": {},
   "outputs": [
    {
     "name": "stdout",
     "output_type": "stream",
     "text": [
      "Normalized DataFrame:\n",
      "      A     B\n",
      "0  0.00  0.00\n",
      "1  0.25  0.25\n",
      "2  0.50  0.50\n",
      "3  0.75  0.75\n",
      "4  1.00  1.00\n"
     ]
    }
   ],
   "source": [
    "# Sample DataFrame\n",
    "data = pd.DataFrame({\n",
    "    \"A\": [100, 200, 300, 400, 500],\n",
    "    \"B\": [5, 15, 25, 35, 45]\n",
    "})\n",
    "\n",
    "# Normalize Data\n",
    "normalized_df, scaler = normalize_dataframe(data)\n",
    "\n",
    "print(\"Normalized DataFrame:\")\n",
    "print(normalized_df)\n"
   ]
  },
  {
   "cell_type": "code",
   "execution_count": 15,
   "metadata": {},
   "outputs": [
    {
     "name": "stdout",
     "output_type": "stream",
     "text": [
      "\n",
      "Denormalized DataFrame:\n",
      "     A   B\n",
      "0  100   5\n",
      "1  200  15\n",
      "2  300  25\n",
      "3  400  35\n",
      "4  500  45\n"
     ]
    }
   ],
   "source": [
    "# Convert normalized data back to original scale\n",
    "denormalized_df = normalize_dataframe(normalized_df, scaler=scaler, inverse=True)\n",
    "\n",
    "print(\"\\nDenormalized DataFrame:\")\n",
    "print(denormalized_df.astype(int))\n"
   ]
  },
  {
   "cell_type": "code",
   "execution_count": 16,
   "metadata": {},
   "outputs": [],
   "source": [
    "def read_data(path):\n",
    "    df1 = pd.read_csv(path)\n",
    "    df1 = df1.drop(['start_ts', 'session_duration'], axis=1)\n",
    "    df1 = df1.fillna(0)\n",
    "    df1['role'] = df1['role'].astype('category').cat.codes\n",
    "    df1['user'] = df1['user'].astype('category').cat.codes\n",
    "    return df1"
   ]
  },
  {
   "cell_type": "code",
   "execution_count": 17,
   "metadata": {},
   "outputs": [],
   "source": [
    "import os    \n",
    "path = \"/home/sathish/UEBA/data/data.csv\"\n",
    "df = read_data(path)\n",
    "train_data, test_data = df.iloc[:276388], df.iloc[276388:]"
   ]
  },
  {
   "cell_type": "code",
   "execution_count": null,
   "metadata": {},
   "outputs": [],
   "source": [
    "normalized_df, scaler = normalize_dataframe(df)\n",
    "\n",
    "print(\"Normalized DataFrame:\")\n",
    "print(normalized_df)\n"
   ]
  },
  {
   "cell_type": "code",
   "execution_count": null,
   "metadata": {},
   "outputs": [],
   "source": [
    "denormalized_df = normalize_dataframe(normalized_df, scaler=scaler, inverse=True)\n",
    "\n",
    "print(\"\\nDenormalized DataFrame:\")\n",
    "print(denormalized_df.astype(int))"
   ]
  },
  {
   "cell_type": "code",
   "execution_count": 21,
   "metadata": {},
   "outputs": [
    {
     "name": "stdout",
     "output_type": "stream",
     "text": [
      "\n",
      "Denormalized Row:\n",
      "user                                    707\n",
      "logon_on_own_pc_normal                    1\n",
      "logon_on_other_pc_normal                  0\n",
      "logon_on_own_pc_off_hour                  1\n",
      "logon_on_other_pc_off_hour                0\n",
      "logon_hour                                6\n",
      "day_of_a_week                             5\n",
      "device_connects_on_own_pc                 0\n",
      "device_connects_on_other_pc               0\n",
      "device_connects_on_own_pc_off_hour        0\n",
      "device_connects_on_other_pc_off_hour      0\n",
      "documents_copy_own_pc                     0\n",
      "documents_copy_other_pc                   0\n",
      "exe_files_copy_own_pc                     0\n",
      "exe_files_copy_other_pc                   0\n",
      "documents_copy_own_pc_off_hour            0\n",
      "documents_copy_other_pc_off_hour          0\n",
      "exe_files_copy_own_pc_off_hour            0\n",
      "exe_files_copy_other_pc_off_hour          0\n",
      "neutral_sites                            81\n",
      "job_search                                0\n",
      "hacking_sites                             0\n",
      "neutral_sites_off_hour                    9\n",
      "job_search_off_hour                       0\n",
      "hacking_sites_off_hour                    0\n",
      "total_emails                              9\n",
      "int_to_int_mails                          3\n",
      "int_to_out_mails                          0\n",
      "out_to_int_mails                          0\n",
      "out_to_out_mails                          6\n",
      "internal_recipients                       5\n",
      "external_recipients                       6\n",
      "distinct_bcc                              2\n",
      "mails_with_attachments                    4\n",
      "after_hour_mails                          0\n",
      "role                                     13\n",
      "business_unit                             1\n",
      "functional_unit                           4\n",
      "department                                3\n",
      "team                                      0\n",
      "O                                        45\n",
      "C                                        38\n",
      "E                                        22\n",
      "A                                        46\n",
      "N                                        31\n",
      "class                                     0\n",
      "type                                      0\n",
      "dtype: int64\n"
     ]
    }
   ],
   "source": [
    "# Select a single row (e.g., first row)\n",
    "row_to_denormalize = normalized_df.iloc[0]\n",
    "#print(row_to_denormalize)\n",
    "\n",
    "# Denormalize the row\n",
    "denormalized_row = normalize_dataframe(normalized_df, scaler=scaler, inverse=True, row=row_to_denormalize)\n",
    "\n",
    "print(\"\\nDenormalized Row:\")\n",
    "print(denormalized_row.astype(int))"
   ]
  },
  {
   "cell_type": "code",
   "execution_count": 23,
   "metadata": {},
   "outputs": [
    {
     "data": {
      "text/plain": [
       "user                                    707\n",
       "logon_on_own_pc_normal                    1\n",
       "logon_on_other_pc_normal                  0\n",
       "logon_on_own_pc_off_hour                  1\n",
       "logon_on_other_pc_off_hour                0\n",
       "logon_hour                                6\n",
       "day_of_a_week                             5\n",
       "device_connects_on_own_pc                 0\n",
       "device_connects_on_other_pc               0\n",
       "device_connects_on_own_pc_off_hour        0\n",
       "device_connects_on_other_pc_off_hour      0\n",
       "documents_copy_own_pc                     0\n",
       "documents_copy_other_pc                   0\n",
       "exe_files_copy_own_pc                     0\n",
       "exe_files_copy_other_pc                   0\n",
       "documents_copy_own_pc_off_hour            0\n",
       "documents_copy_other_pc_off_hour          0\n",
       "exe_files_copy_own_pc_off_hour            0\n",
       "exe_files_copy_other_pc_off_hour          0\n",
       "neutral_sites                            81\n",
       "job_search                                0\n",
       "hacking_sites                             0\n",
       "neutral_sites_off_hour                    9\n",
       "job_search_off_hour                       0\n",
       "hacking_sites_off_hour                    0\n",
       "total_emails                              9\n",
       "int_to_int_mails                          3\n",
       "int_to_out_mails                          0\n",
       "out_to_int_mails                          0\n",
       "out_to_out_mails                          6\n",
       "internal_recipients                       5\n",
       "external_recipients                       6\n",
       "distinct_bcc                              2\n",
       "mails_with_attachments                    4\n",
       "after_hour_mails                          0\n",
       "role                                     13\n",
       "business_unit                             1\n",
       "functional_unit                           4\n",
       "department                                3\n",
       "team                                      0\n",
       "O                                        45\n",
       "C                                        38\n",
       "E                                        22\n",
       "A                                        46\n",
       "N                                        32\n",
       "class                                     0\n",
       "type                                      0\n",
       "Name: 0, dtype: int64"
      ]
     },
     "execution_count": 23,
     "metadata": {},
     "output_type": "execute_result"
    }
   ],
   "source": [
    "df.iloc[0].astype(int)"
   ]
  }
 ],
 "metadata": {
  "kernelspec": {
   "display_name": ".venv",
   "language": "python",
   "name": "python3"
  },
  "language_info": {
   "codemirror_mode": {
    "name": "ipython",
    "version": 3
   },
   "file_extension": ".py",
   "mimetype": "text/x-python",
   "name": "python",
   "nbconvert_exporter": "python",
   "pygments_lexer": "ipython3",
   "version": "3.10.12"
  }
 },
 "nbformat": 4,
 "nbformat_minor": 2
}
